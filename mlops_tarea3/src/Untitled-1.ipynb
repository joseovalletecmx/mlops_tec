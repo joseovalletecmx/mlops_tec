{
 "cells": [
  {
   "cell_type": "code",
   "execution_count": 3,
   "metadata": {},
   "outputs": [
    {
     "name": "stderr",
     "output_type": "stream",
     "text": [
      "/Users/joseovalle/Desktop/mlops_jovalle/mlops_tec/mlops_tarea1/.venv/lib/python3.10/site-packages/sklearn/linear_model/_logistic.py:460: ConvergenceWarning: lbfgs failed to converge (status=1):\n",
      "STOP: TOTAL NO. of ITERATIONS REACHED LIMIT.\n",
      "\n",
      "Increase the number of iterations (max_iter) or scale the data as shown in:\n",
      "    https://scikit-learn.org/stable/modules/preprocessing.html\n",
      "Please also refer to the documentation for alternative solver options:\n",
      "    https://scikit-learn.org/stable/modules/linear_model.html#logistic-regression\n",
      "  n_iter_i = _check_optimize_result(\n"
     ]
    }
   ],
   "source": [
    "import mlflow\n",
    "import yaml\n",
    "import sys\n",
    "from typing import Text\n",
    "import pandas as pd\n",
    "import numpy as np\n",
    "import matplotlib.pyplot as plt\n",
    "import seaborn as sns\n",
    "from sklearn.ensemble import RandomForestClassifier\n",
    "from sklearn.linear_model import LinearRegression\n",
    "from sklearn.linear_model import LogisticRegression\n",
    "from sklearn.metrics import confusion_matrix\n",
    "from sklearn.metrics import accuracy_score\n",
    "import mlflow\n",
    "import joblib\n",
    "\n",
    "with open('/Users/joseovalle/Desktop/mlops_jovalle/mlops_tec/mlops_tarea1/src/params.yaml') as conf_file:\n",
    "    config = yaml.safe_load(conf_file)\n",
    "\n",
    "mlflow.set_tracking_uri('http://localhost:5001')\n",
    "mlflow.set_experiment(f'users/test_notebook_other')\n",
    "\n",
    "# Generate a simple dataset\n",
    "X_train = pd.read_csv(config['data_split']['x_train_path'])\n",
    "y_train = pd.read_csv(config['data_split']['y_train_path'])\n",
    "\n",
    "# Initialize the Random Forest Classifier\n",
    "model = LogisticRegression()\n",
    "# model = LinearRegression()\n",
    "# model = RandomForestClassifier()\n",
    "model_path = '/Users/joseovalle/Desktop/mlops_jovalle/mlops_tec/mlops_tarea1/models/test_model.pkl'\n",
    "joblib.dump(model, model_path)\n",
    "model.fit(X_train, np.array(y_train).flatten())\n",
    "y_pred = model.predict(X_train)\n",
    "\n",
    "\n"
   ]
  },
  {
   "cell_type": "code",
   "execution_count": 5,
   "metadata": {},
   "outputs": [
    {
     "name": "stderr",
     "output_type": "stream",
     "text": [
      "2024/10/20 18:39:00 WARNING mlflow.models.model: Model logged without a signature and input example. Please set `input_example` parameter when logging the model to auto infer the model signature.\n",
      "2024/10/20 18:39:00 INFO mlflow.tracking._tracking_service.client: 🏃 View run omniscient-gnu-727 at: http://localhost:5001/#/experiments/13/runs/e08c1818b9514805aa62d968bee9f015.\n",
      "2024/10/20 18:39:00 INFO mlflow.tracking._tracking_service.client: 🧪 View experiment at: http://localhost:5001/#/experiments/13.\n"
     ]
    }
   ],
   "source": [
    "# Log model\n",
    "mlflow.start_run()\n",
    "mlflow.sklearn.log_model(model, \"model\")    \n",
    "mlflow.end_run()"
   ]
  },
  {
   "cell_type": "code",
   "execution_count": 4,
   "metadata": {},
   "outputs": [
    {
     "name": "stderr",
     "output_type": "stream",
     "text": [
      "2024/10/20 18:38:55 INFO mlflow.tracking._tracking_service.client: 🏃 View run silent-hawk-854 at: http://localhost:5001/#/experiments/13/runs/e1e3d1cbad6a437a899ca35c827277bf.\n",
      "2024/10/20 18:38:55 INFO mlflow.tracking._tracking_service.client: 🧪 View experiment at: http://localhost:5001/#/experiments/13.\n"
     ]
    }
   ],
   "source": [
    "mlflow.end_run()"
   ]
  }
 ],
 "metadata": {
  "kernelspec": {
   "display_name": ".venv",
   "language": "python",
   "name": "python3"
  },
  "language_info": {
   "codemirror_mode": {
    "name": "ipython",
    "version": 3
   },
   "file_extension": ".py",
   "mimetype": "text/x-python",
   "name": "python",
   "nbconvert_exporter": "python",
   "pygments_lexer": "ipython3",
   "version": "3.10.15"
  }
 },
 "nbformat": 4,
 "nbformat_minor": 2
}
