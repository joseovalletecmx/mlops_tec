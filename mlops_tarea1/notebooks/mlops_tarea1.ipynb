{
 "cells": [
  {
   "cell_type": "markdown",
   "metadata": {},
   "source": [
    "# Manipulación y prepración de datos\n",
    "* Importar los conjuntos de datos con los que se trabajará.\n",
    "* Realizar tareas de limpieza de datos, eliminando valores nulos o inconsistentes.\n",
    "* Realizar transformaciones necesarias para preparar los datos para el análisis y modelado."
   ]
  },
  {
   "cell_type": "code",
   "execution_count": null,
   "metadata": {
    "vscode": {
     "languageId": "plaintext"
    }
   },
   "outputs": [],
   "source": []
  },
  {
   "cell_type": "markdown",
   "metadata": {},
   "source": [
    "# Exploración y preprocesamiento de datos\n",
    "* Realizar análisis exploratorio de datos (EDA) utilizando visualizaciones y estadísticas descriptivas.\n",
    "* Aplicar técnicas de preprocesamiento como normalización, codificación de variables categóricas y reducción de dimensionalidad.\n"
   ]
  },
  {
   "cell_type": "code",
   "execution_count": null,
   "metadata": {
    "vscode": {
     "languageId": "plaintext"
    }
   },
   "outputs": [],
   "source": []
  },
  {
   "cell_type": "markdown",
   "metadata": {},
   "source": [
    "# Versionado de datos\n",
    "\n",
    "* Utilizar herramientas de versionado de datos para mantener un registro de cambios y versiones de los conjuntos de datos utilizados.\n",
    "* Documentar todas las modificaciones realizadas en los datos."
   ]
  },
  {
   "cell_type": "code",
   "execution_count": null,
   "metadata": {
    "vscode": {
     "languageId": "plaintext"
    }
   },
   "outputs": [],
   "source": []
  },
  {
   "cell_type": "markdown",
   "metadata": {},
   "source": [
    "# Construcción, ajuste y evaluación de modelos de machine learning\n",
    "* Seleccionar algoritmos de Machine Learning adecuados para resolver el problema planteado.\n",
    "* Entrenar los modelos utilizando los datos preprocesados.\n",
    "* Realizar ajustes de hiperparámetros para optimizar el rendimiento del modelo.\n",
    "* Evaluar los modelos utilizando métricas de rendimiento específicas.\n"
   ]
  },
  {
   "cell_type": "code",
   "execution_count": null,
   "metadata": {
    "vscode": {
     "languageId": "plaintext"
    }
   },
   "outputs": [],
   "source": []
  },
  {
   "cell_type": "markdown",
   "metadata": {},
   "source": [
    "# Aplicación de mejores prácticas en el pipeline de modelado\n",
    "* Implementar pipelines de Machine Learning en donde se automaticen las tareas de preprocesamiento, entrenamiento y evaluación.\n",
    "* Documentar cada paso del pipeline para asegurar claridad y reproducibilidad.\n"
   ]
  },
  {
   "cell_type": "code",
   "execution_count": null,
   "metadata": {
    "vscode": {
     "languageId": "plaintext"
    }
   },
   "outputs": [],
   "source": []
  },
  {
   "cell_type": "markdown",
   "metadata": {},
   "source": [
    "# Estructuración y refactorización del código\n",
    "* Organizar el código en módulos y funciones bien definidas.\n",
    "* Aplicar principios de programación orientada a objetos para mejorar la estructura del código.\n",
    "* Refactorizar el código existente para mejorar su eficiencia y mantenibilidad."
   ]
  },
  {
   "cell_type": "code",
   "execution_count": null,
   "metadata": {
    "vscode": {
     "languageId": "plaintext"
    }
   },
   "outputs": [],
   "source": []
  },
  {
   "cell_type": "markdown",
   "metadata": {},
   "source": [
    "# Presentación ejectuvia de pase pdf"
   ]
  },
  {
   "cell_type": "code",
   "execution_count": null,
   "metadata": {
    "vscode": {
     "languageId": "plaintext"
    }
   },
   "outputs": [],
   "source": []
  }
 ],
 "metadata": {
  "language_info": {
   "name": "python"
  }
 },
 "nbformat": 4,
 "nbformat_minor": 2
}
