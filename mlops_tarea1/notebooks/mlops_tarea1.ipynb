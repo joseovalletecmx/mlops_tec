{
 "cells": [
  {
   "cell_type": "markdown",
   "metadata": {},
   "source": [
    "# Manipulación y prepración de datos\n",
    "* Importar los conjuntos de datos con los que se trabajará.\n",
    "* Realizar tareas de limpieza de datos, eliminando valores nulos o inconsistentes.\n",
    "* Realizar transformaciones necesarias para preparar los datos para el análisis y modelado."
   ]
  },
  {
   "cell_type": "code",
   "execution_count": 2,
   "metadata": {},
   "outputs": [
    {
     "ename": "ModuleNotFoundError",
     "evalue": "No module named 'ucimlrepo'",
     "output_type": "error",
     "traceback": [
      "\u001b[0;31m---------------------------------------------------------------------------\u001b[0m",
      "\u001b[0;31mModuleNotFoundError\u001b[0m                       Traceback (most recent call last)",
      "Cell \u001b[0;32mIn[2], line 1\u001b[0m\n\u001b[0;32m----> 1\u001b[0m \u001b[38;5;28;01mfrom\u001b[39;00m \u001b[38;5;21;01mucimlrepo\u001b[39;00m \u001b[38;5;28;01mimport\u001b[39;00m fetch_ucirepo \n\u001b[1;32m      3\u001b[0m \u001b[38;5;66;03m# fetch dataset \u001b[39;00m\n\u001b[1;32m      4\u001b[0m regensburg_pediatric_appendicitis \u001b[38;5;241m=\u001b[39m fetch_ucirepo(\u001b[38;5;28mid\u001b[39m\u001b[38;5;241m=\u001b[39m\u001b[38;5;241m938\u001b[39m) \n",
      "\u001b[0;31mModuleNotFoundError\u001b[0m: No module named 'ucimlrepo'"
     ]
    }
   ],
   "source": [
    "from ucimlrepo import fetch_ucirepo \n",
    "  \n",
    "# fetch dataset \n",
    "regensburg_pediatric_appendicitis = fetch_ucirepo(id=938) \n",
    "  \n",
    "# data (as pandas dataframes) \n",
    "X = regensburg_pediatric_appendicitis.data.features \n",
    "y = regensburg_pediatric_appendicitis.data.targets \n",
    "  \n",
    "# metadata \n",
    "print(regensburg_pediatric_appendicitis.metadata) \n",
    "  \n",
    "# variable information \n",
    "print(regensburg_pediatric_appendicitis.variables) \n"
   ]
  },
  {
   "cell_type": "markdown",
   "metadata": {},
   "source": [
    "# Exploración y preprocesamiento de datos\n",
    "* Realizar análisis exploratorio de datos (EDA) utilizando visualizaciones y estadísticas descriptivas.\n",
    "* Aplicar técnicas de preprocesamiento como normalización, codificación de variables categóricas y reducción de dimensionalidad.\n"
   ]
  },
  {
   "cell_type": "code",
   "execution_count": null,
   "metadata": {},
   "outputs": [],
   "source": []
  },
  {
   "cell_type": "markdown",
   "metadata": {},
   "source": [
    "# Versionado de datos\n",
    "\n",
    "* Utilizar herramientas de versionado de datos para mantener un registro de cambios y versiones de los conjuntos de datos utilizados.\n",
    "* Documentar todas las modificaciones realizadas en los datos."
   ]
  },
  {
   "cell_type": "code",
   "execution_count": null,
   "metadata": {},
   "outputs": [],
   "source": []
  },
  {
   "cell_type": "markdown",
   "metadata": {},
   "source": [
    "# Construcción, ajuste y evaluación de modelos de machine learning\n",
    "* Seleccionar algoritmos de Machine Learning adecuados para resolver el problema planteado.\n",
    "* Entrenar los modelos utilizando los datos preprocesados.\n",
    "* Realizar ajustes de hiperparámetros para optimizar el rendimiento del modelo.\n",
    "* Evaluar los modelos utilizando métricas de rendimiento específicas.\n"
   ]
  },
  {
   "cell_type": "code",
   "execution_count": null,
   "metadata": {},
   "outputs": [],
   "source": []
  },
  {
   "cell_type": "markdown",
   "metadata": {},
   "source": [
    "# Aplicación de mejores prácticas en el pipeline de modelado\n",
    "* Implementar pipelines de Machine Learning en donde se automaticen las tareas de preprocesamiento, entrenamiento y evaluación.\n",
    "* Documentar cada paso del pipeline para asegurar claridad y reproducibilidad.\n"
   ]
  },
  {
   "cell_type": "code",
   "execution_count": null,
   "metadata": {},
   "outputs": [],
   "source": []
  },
  {
   "cell_type": "markdown",
   "metadata": {},
   "source": [
    "# Estructuración y refactorización del código\n",
    "* Organizar el código en módulos y funciones bien definidas.\n",
    "* Aplicar principios de programación orientada a objetos para mejorar la estructura del código.\n",
    "* Refactorizar el código existente para mejorar su eficiencia y mantenibilidad."
   ]
  },
  {
   "cell_type": "code",
   "execution_count": null,
   "metadata": {},
   "outputs": [],
   "source": []
  },
  {
   "cell_type": "markdown",
   "metadata": {},
   "source": [
    "# Presentación ejectuvia de pase pdf"
   ]
  },
  {
   "cell_type": "code",
   "execution_count": null,
   "metadata": {},
   "outputs": [],
   "source": []
  }
 ],
 "metadata": {
  "kernelspec": {
   "display_name": "Python 3",
   "language": "python",
   "name": "python3"
  },
  "language_info": {
   "codemirror_mode": {
    "name": "ipython",
    "version": 3
   },
   "file_extension": ".py",
   "mimetype": "text/x-python",
   "name": "python",
   "nbconvert_exporter": "python",
   "pygments_lexer": "ipython3",
   "version": "3.10.15"
  }
 },
 "nbformat": 4,
 "nbformat_minor": 2
}
